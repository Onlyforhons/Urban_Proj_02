{
 "cells": [
  {
   "cell_type": "markdown",
   "metadata": {},
   "source": [
    "\n",
    "# Mini Project 01 : Analysis of Residential Property in the Korean Urban Area\n",
    "\n",
    "Dongjin Lee\n",
    "\n",
    "Part 01: Data Collection\n",
    "\n",
    "Coding Note : \n",
    "Due to origin of the data source, many of the coding was consist of Korean.\n",
    "The translation of analysis was done after all the work is completed.\n",
    "\n",
    "\n",
    "\n",
    "\n",
    "\n"
   ]
  },
  {
   "cell_type": "code",
   "execution_count": 4,
   "metadata": {
    "collapsed": false
   },
   "outputs": [
    {
     "name": "stdout",
     "output_type": "stream",
     "text": [
      "Today is 2016-04-20\n",
      "What version of Python are we running? \n",
      "3.5.1 |Anaconda 4.0.0 (64-bit)| (default, Feb 16 2016, 09:49:46) [MSC v.1900 64 bit (AMD64)]\n"
     ]
    }
   ],
   "source": [
    "\"\"\"\n",
    "Created on Mon Apr 11 18:30:05 2016\n",
    "\"\"\"\n",
    "# import packages \n",
    "import pandas as pd                   # data management\n",
    "import matplotlib.pyplot as plt       # graphics \n",
    "import matplotlib as mpl              # graphics parameters\n",
    "import numpy as np                    # numerical calculations \n",
    "\n",
    "\n",
    "# Checking Python version \n",
    "import datetime as dt \n",
    "import sys\n",
    "print('Today is', dt.date.today())\n",
    "print('What version of Python are we running? \\n', sys.version, sep='') "
   ]
  },
  {
   "cell_type": "markdown",
   "metadata": {},
   "source": [
    "### Sources : Use the link to see the origin of the source\n",
    " \n",
    "#### 01. Data location & Web Crawled Data (데이타 위치 및 가져온 곳)\n",
    "\n",
    "    01-01. Korean Apartment(Residential Property) Management Info System\n",
    "    http://www.k-apt.go.kr\n",
    "    \n",
    "    01-02. Ministry of Land and Infrastructure and Transportation (Korea)\n",
    "    http://rt.molit.go.kr\n",
    "\n",
    "#### 02. Study Material Location (Codes and Idiom)\n",
    "\n",
    "    02-01. Basic Foundation of Python : http://databootcamp.nyuecon.com/\n",
    "    02-02. Web Crawling method : https://www.coursera.org/learn/python-network-data/\n",
    "    02-03. Sqlite3 http://www.tutorialspoint.com/sqlite/sqlite_python.htm"
   ]
  },
  {
   "cell_type": "code",
   "execution_count": 2,
   "metadata": {
    "collapsed": false
   },
   "outputs": [],
   "source": [
    "#%%\n",
    "from matplotlib import cm, colors, _cm\n",
    "\n",
    "# Data Collection\n",
    "import urllib\n",
    "import json\n",
    "from time import time\n",
    "import sqlite3"
   ]
  },
  {
   "cell_type": "code",
   "execution_count": 5,
   "metadata": {
    "collapsed": false
   },
   "outputs": [
    {
     "data": {
      "text/html": [
       "<div>\n",
       "<table border=\"1\" class=\"dataframe\">\n",
       "  <thead>\n",
       "    <tr style=\"text-align: right;\">\n",
       "      <th></th>\n",
       "      <th>si_code</th>\n",
       "      <th>name</th>\n",
       "      <th>update_tm</th>\n",
       "    </tr>\n",
       "  </thead>\n",
       "  <tbody>\n",
       "    <tr>\n",
       "      <th>0</th>\n",
       "      <td>11</td>\n",
       "      <td>서울특별시</td>\n",
       "      <td>1460401951</td>\n",
       "    </tr>\n",
       "    <tr>\n",
       "      <th>1</th>\n",
       "      <td>26</td>\n",
       "      <td>부산광역시</td>\n",
       "      <td>1460401951</td>\n",
       "    </tr>\n",
       "    <tr>\n",
       "      <th>2</th>\n",
       "      <td>27</td>\n",
       "      <td>대구광역시</td>\n",
       "      <td>1460401951</td>\n",
       "    </tr>\n",
       "    <tr>\n",
       "      <th>3</th>\n",
       "      <td>28</td>\n",
       "      <td>인천광역시</td>\n",
       "      <td>1460401951</td>\n",
       "    </tr>\n",
       "    <tr>\n",
       "      <th>4</th>\n",
       "      <td>29</td>\n",
       "      <td>광주광역시</td>\n",
       "      <td>1460401951</td>\n",
       "    </tr>\n",
       "    <tr>\n",
       "      <th>5</th>\n",
       "      <td>30</td>\n",
       "      <td>대전광역시</td>\n",
       "      <td>1460401951</td>\n",
       "    </tr>\n",
       "    <tr>\n",
       "      <th>6</th>\n",
       "      <td>31</td>\n",
       "      <td>울산광역시</td>\n",
       "      <td>1460401951</td>\n",
       "    </tr>\n",
       "    <tr>\n",
       "      <th>7</th>\n",
       "      <td>36</td>\n",
       "      <td>세종특별자치시</td>\n",
       "      <td>1460401951</td>\n",
       "    </tr>\n",
       "    <tr>\n",
       "      <th>8</th>\n",
       "      <td>41</td>\n",
       "      <td>경기도</td>\n",
       "      <td>1460401951</td>\n",
       "    </tr>\n",
       "    <tr>\n",
       "      <th>9</th>\n",
       "      <td>42</td>\n",
       "      <td>강원도</td>\n",
       "      <td>1460401951</td>\n",
       "    </tr>\n",
       "  </tbody>\n",
       "</table>\n",
       "</div>"
      ],
      "text/plain": [
       "   si_code     name   update_tm\n",
       "0       11    서울특별시  1460401951\n",
       "1       26    부산광역시  1460401951\n",
       "2       27    대구광역시  1460401951\n",
       "3       28    인천광역시  1460401951\n",
       "4       29    광주광역시  1460401951\n",
       "5       30    대전광역시  1460401951\n",
       "6       31    울산광역시  1460401951\n",
       "7       36  세종특별자치시  1460401951\n",
       "8       41      경기도  1460401951\n",
       "9       42      강원도  1460401951"
      ]
     },
     "execution_count": 5,
     "metadata": {},
     "output_type": "execute_result"
    }
   ],
   "source": [
    "con = sqlite3.connect(\"C:\\\\Users\\\\Dongjin\\\\Desktop\\\\MV_02_realestate.db\")\n",
    "# sqlite3.connect\n",
    "# connect(database[, timeout, detect_types, isolation_level,check_same_thread, factory, cached_statements, uri])\n",
    "# Opens a connection to the SQLite database file *database*.\n",
    "\n",
    "#  (City Code inserted in the DB by hand as follows)\n",
    "state_info=pd.read_sql(\"select * from addr_si_code_tbl;\",con)\n",
    "state_info.head(10)"
   ]
  },
  {
   "cell_type": "code",
   "execution_count": 26,
   "metadata": {
    "collapsed": true
   },
   "outputs": [],
   "source": [
    "# Select \n",
    "# si, gun, gu data collection \n",
    "def Address_Info( code, type='SGG'  ):\n",
    "    response = urllib.request.urlopen(\"http://www.k-apt.go.kr/cmmn/bjd/getBjdList.do?bjd_code=%d&bjd_gbn=%s\" %(code,type) )\n",
    "    data = json.loads(response.read().decode('utf-8'))\n",
    "    return pd.DataFrame(data[u'resultList'])\n"
   ]
  },
  {
   "cell_type": "code",
   "execution_count": null,
   "metadata": {
    "collapsed": true
   },
   "outputs": [],
   "source": []
  },
  {
   "cell_type": "code",
   "execution_count": null,
   "metadata": {
    "collapsed": true
   },
   "outputs": [],
   "source": []
  },
  {
   "cell_type": "code",
   "execution_count": 27,
   "metadata": {
    "collapsed": false
   },
   "outputs": [],
   "source": [
    "# Get apartment information \n",
    "# http://www.k-apt.go.kr/kaptinfo/getKaptList.do?bjd_code=11350105\n",
    "def getAptInfo(code):\n",
    "    response = urllib.request.urlopen(\"http://www.k-apt.go.kr/kaptinfo/getKaptList.do?bjd_code=%d\" % (code) )\n",
    "    data = json.loads(response.read().decode('utf-8'))\n",
    "    return pd.DataFrame(data[u'resultList'])\n"
   ]
  },
  {
   "cell_type": "code",
   "execution_count": 39,
   "metadata": {
    "collapsed": false
   },
   "outputs": [
    {
     "data": {
      "text/html": [
       "<div>\n",
       "<table border=\"1\" class=\"dataframe\">\n",
       "  <thead>\n",
       "    <tr style=\"text-align: right;\">\n",
       "      <th></th>\n",
       "      <th>si_code</th>\n",
       "      <th>gu_code</th>\n",
       "      <th>name</th>\n",
       "    </tr>\n",
       "  </thead>\n",
       "  <tbody>\n",
       "    <tr>\n",
       "      <th>0</th>\n",
       "      <td>11</td>\n",
       "      <td>680</td>\n",
       "      <td>강남구</td>\n",
       "    </tr>\n",
       "    <tr>\n",
       "      <th>1</th>\n",
       "      <td>11</td>\n",
       "      <td>740</td>\n",
       "      <td>강동구</td>\n",
       "    </tr>\n",
       "    <tr>\n",
       "      <th>2</th>\n",
       "      <td>11</td>\n",
       "      <td>305</td>\n",
       "      <td>강북구</td>\n",
       "    </tr>\n",
       "    <tr>\n",
       "      <th>3</th>\n",
       "      <td>11</td>\n",
       "      <td>500</td>\n",
       "      <td>강서구</td>\n",
       "    </tr>\n",
       "    <tr>\n",
       "      <th>4</th>\n",
       "      <td>11</td>\n",
       "      <td>620</td>\n",
       "      <td>관악구</td>\n",
       "    </tr>\n",
       "  </tbody>\n",
       "</table>\n",
       "</div>"
      ],
      "text/plain": [
       "   si_code  gu_code name\n",
       "0       11      680  강남구\n",
       "1       11      740  강동구\n",
       "2       11      305  강북구\n",
       "3       11      500  강서구\n",
       "4       11      620  관악구"
      ]
     },
     "execution_count": 39,
     "metadata": {},
     "output_type": "execute_result"
    }
   ],
   "source": [
    "# crewling the 시, 군, 구 information\n",
    "for name, code in state_info[['name','si_code']].itertuples(index=False):\n",
    "    gu_info = Address_Info(code)\n",
    "    values=gu_info.apply(lambda x : u\"(%d, %s, '%s')\" % (code, x['CODE'], x['CODE_VALUE'] ), axis=1)\n",
    "    insert_sql = u\"insert into addr_gu_code_tbl( si_code, gu_code, name) values %s ;\" % (u\",\".join(values))\n",
    "    con.execute(insert_sql)\n",
    "    con.commit()\n",
    "city_info=pd.read_sql(\"select * from addr_gu_code_tbl;\",con)\n",
    "city_info.head()\n"
   ]
  },
  {
   "cell_type": "code",
   "execution_count": null,
   "metadata": {
    "collapsed": false
   },
   "outputs": [],
   "source": []
  },
  {
   "cell_type": "code",
   "execution_count": null,
   "metadata": {
    "collapsed": false
   },
   "outputs": [],
   "source": [
    "\n",
    "# crewling the 읍, 면, 동 information\n",
    "for si,gu in city_info[['si_code','gu_code']].itertuples(index=False):\n",
    "    code = \"%d%d\" % (si,gu)\n",
    "    info = Address_Info(int(code),'EMD')\n",
    "    values=info.apply(lambda x : u\"(%d, %d, %s, '%s')\" % (si,gu, x['CODE'], x['CODE_VALUE'] ), axis=1)\n",
    "    insert_sql = u\"insert into addr_dong_code_tbl( si_code, gu_code, dong_code,name) values %s ;\" % (u\",\".join(values))\n",
    "    con.execute(insert_sql)\n",
    "    con.commit()\n",
    "    print (\"%s code inserted(%d)\" % (code, info.count()[0]))"
   ]
  },
  {
   "cell_type": "code",
   "execution_count": 41,
   "metadata": {
    "collapsed": false
   },
   "outputs": [
    {
     "name": "stdout",
     "output_type": "stream",
     "text": [
      "   si_code  gu_code  dong_code name\n",
      "0       11      680        103  개포동\n",
      "1       11      680        108  논현동\n",
      "2       11      680        106  대치동\n",
      "3       11      680        118  도곡동\n",
      "4       11      680        105  삼성동\n"
     ]
    }
   ],
   "source": [
    "# Collection of the \"Dong-Code\"\n",
    "town_info=pd.read_sql(\"select * from addr_dong_code_tbl;\",con)\n",
    "print (town_info.head())\n"
   ]
  },
  {
   "cell_type": "code",
   "execution_count": 30,
   "metadata": {
    "collapsed": true
   },
   "outputs": [],
   "source": [
    "# http://www.k-apt.go.kr/kaptinfo/getKaptList.do?bjd_code=11350105\n",
    "def getAptDetailInfo(code):\n",
    "    response = urllib.request.urlopen(\"http://www.k-apt.go.kr/kaptinfo/getKaptInfo_detail.do?kapt_code=%s\" % (code) )\n",
    "    data = json.loads(response.read().decode('utf-8'))\n",
    "    return data\n"
   ]
  },
  {
   "cell_type": "code",
   "execution_count": 31,
   "metadata": {
    "collapsed": true
   },
   "outputs": [],
   "source": [
    "def extractAptInfo(a):\n",
    "    info = []\n",
    "    for name in ['KAPT_CODE', 'KAPT_DONG_CNT','KAPT_USEDATE', 'KAPTD_WTIMESUB', 'SUBWAY_STATION', 'SUBWAY_LINE', 'CODE_HALL', 'KAPT_BCOMPANY' ] :\n",
    "        info.append(a[u'resultMap_kapt'][name]);\n",
    "    cnt = 0\n",
    "    for x in a[u'resultMap_kapt_areacnt']:\n",
    "        if( type(x[u'KAPTDA_CNT']) is int ):\n",
    "            info.append(x[u'KAPTDA_CNT'])\n",
    "        else :\n",
    "            info.append(0)\n",
    "#           cnt = cnt + x[u'KAPTDA_CNT']\n",
    " #   info.append(cnt)\n",
    "    return info"
   ]
  },
  {
   "cell_type": "code",
   "execution_count": null,
   "metadata": {
    "collapsed": true
   },
   "outputs": [],
   "source": [
    "#%%\n",
    "# crewling kapt code 정보\n",
    "for code in town_info.apply(lambda x : x['si_code']*1000000+x['gu_code']*1000+x['dong_code'], axis=1):\n",
    "    print (\"%d code insert start\"% (code))\n",
    "    apt = getAptInfo(code)\n",
    "    if apt.empty :\n",
    "        continue\n",
    "    apt.to_sql('apt_code_tbl2', con, index=False, if_exists='append' )"
   ]
  },
  {
   "cell_type": "code",
   "execution_count": 32,
   "metadata": {
    "collapsed": false
   },
   "outputs": [
    {
     "data": {
      "text/html": [
       "<div>\n",
       "<table border=\"1\" class=\"dataframe\">\n",
       "  <thead>\n",
       "    <tr style=\"text-align: right;\">\n",
       "      <th></th>\n",
       "      <th>BJD_CODE</th>\n",
       "      <th>ENERGY_B_COUNT</th>\n",
       "      <th>KAPT_CODE</th>\n",
       "      <th>KAPT_NAME</th>\n",
       "    </tr>\n",
       "  </thead>\n",
       "  <tbody>\n",
       "    <tr>\n",
       "      <th>0</th>\n",
       "      <td>1168010300</td>\n",
       "      <td>0</td>\n",
       "      <td>A13593901</td>\n",
       "      <td>LG개포자이아파트</td>\n",
       "    </tr>\n",
       "    <tr>\n",
       "      <th>1</th>\n",
       "      <td>1168010300</td>\n",
       "      <td>0</td>\n",
       "      <td>A13593908</td>\n",
       "      <td>SH공사대치1단지</td>\n",
       "    </tr>\n",
       "    <tr>\n",
       "      <th>2</th>\n",
       "      <td>1168010300</td>\n",
       "      <td>0</td>\n",
       "      <td>A13524006</td>\n",
       "      <td>개포2차 현대아파트</td>\n",
       "    </tr>\n",
       "    <tr>\n",
       "      <th>3</th>\n",
       "      <td>1168010300</td>\n",
       "      <td>0</td>\n",
       "      <td>A13580602</td>\n",
       "      <td>개포경남아파트</td>\n",
       "    </tr>\n",
       "    <tr>\n",
       "      <th>4</th>\n",
       "      <td>1168010300</td>\n",
       "      <td>0</td>\n",
       "      <td>A13524009</td>\n",
       "      <td>개포대치2단지</td>\n",
       "    </tr>\n",
       "  </tbody>\n",
       "</table>\n",
       "</div>"
      ],
      "text/plain": [
       "     BJD_CODE  ENERGY_B_COUNT  KAPT_CODE   KAPT_NAME\n",
       "0  1168010300               0  A13593901   LG개포자이아파트\n",
       "1  1168010300               0  A13593908   SH공사대치1단지\n",
       "2  1168010300               0  A13524006  개포2차 현대아파트\n",
       "3  1168010300               0  A13580602     개포경남아파트\n",
       "4  1168010300               0  A13524009     개포대치2단지"
      ]
     },
     "execution_count": 32,
     "metadata": {},
     "output_type": "execute_result"
    }
   ],
   "source": [
    "# Aparment를 수집했다.\n",
    "apt_info=pd.read_sql(\"select * from apt_code_tbl2;\",con)\n",
    "apt_info.head()"
   ]
  },
  {
   "cell_type": "code",
   "execution_count": null,
   "metadata": {
    "collapsed": true
   },
   "outputs": [],
   "source": [
    "#%%\n",
    "# crewling apt detail 정보( 세대수, 건립년도, 인근 지하철 등 ) \n",
    "apt_details = pd.DataFrame(columns=['KAPT_CODE', 'KAPT_DONG_CNT','KAPT_USEDATE', 'KAPTD_WTIMESUB', 'SUBWAY_STATION', 'SUBWAY_LINE', 'CODE_HALL','KAPT_BCOMPANY', 'KAPTDA_CNT1', 'KAPTDA_CNT2', 'KAPTDA_CNT3', 'KAPTDA_CNT4'])\n",
    "\n",
    "for code in apt_info['KAPT_CODE']:\n",
    "    a = getAptDetailInfo(code)\n",
    "    if not bool(a):\n",
    "        continue\n",
    "    info = extractAptInfo(a)\n",
    "    if not bool(info):\n",
    "        continue\n",
    "    n=len(apt_details)\n",
    "    apt_details.loc[n] = info\n",
    "    print (\"%s apt data collection completed(%d)\" % (code,n)"
   ]
  },
  {
   "cell_type": "code",
   "execution_count": null,
   "metadata": {
    "collapsed": false
   },
   "outputs": [],
   "source": []
  },
  {
   "cell_type": "code",
   "execution_count": null,
   "metadata": {
    "collapsed": false
   },
   "outputs": [],
   "source": [
    "apt_details = pd.DataFrame(columns=['KAPT_CODE', 'KAPT_DONG_CNT','KAPT_USEDATE', 'KAPTD_WTIMESUB', 'SUBWAY_STATION', 'SUBWAY_LINE', 'CODE_HALL','KAPT_BCOMPANY', 'KAPTDA_CNT1', 'KAPTDA_CNT2', 'KAPTDA_CNT3', 'KAPTDA_CNT4'])\n",
    "\n",
    "for code in apt_info['KAPT_CODE']:\n",
    "    a = getAptDetailInfo(code)\n",
    "    if not bool(a):\n",
    "        continue\n",
    "    info = extractAptInfo(a)\n",
    "    if not bool(info):\n",
    "        continue\n",
    "    n=len(apt_details)\n",
    "    apt_details.loc[n] = info"
   ]
  },
  {
   "cell_type": "code",
   "execution_count": 40,
   "metadata": {
    "collapsed": false
   },
   "outputs": [
    {
     "data": {
      "text/plain": [
       "<bound method NDFrame.head of    KAPT_CODE KAPT_DONG_CNT KAPT_USEDATE KAPTD_WTIMESUB SUBWAY_STATION  \\\n",
       "0  A13593901             4   2004-06-17        5~10분이내             대청   \n",
       "1  A13593908             8   1991-11-20           5분이내            대모산   \n",
       "2  A13524006            13   1986-01-31       10~15분이내             매봉   \n",
       "3  A13580602             9   1984-11-01        5~10분이내             구룡   \n",
       "4  A13524009            11   1992-10-20              -              -   \n",
       "\n",
       "  SUBWAY_LINE CODE_HALL  KAPT_BCOMPANY  KAPTDA_CNT1  KAPTDA_CNT2  KAPTDA_CNT3  \\\n",
       "0         3호선       계단식           화엄건설          0.0          0.0          0.0   \n",
       "1         중앙선       복도식           SH공사       1623.0          0.0          0.0   \n",
       "2         3호선       계단식      현대산업개발(주)          0.0          0.0        112.0   \n",
       "3    3호선, 분당선       계단식           경남건설          0.0          0.0        198.0   \n",
       "4         3호선       복도식  성원건설.진덕산업주식회사       1176.0        577.0          0.0   \n",
       "\n",
       "   KAPTDA_CNT4  \n",
       "0        212.0  \n",
       "1          0.0  \n",
       "2        446.0  \n",
       "3        480.0  \n",
       "4          0.0  >"
      ]
     },
     "execution_count": 40,
     "metadata": {},
     "output_type": "execute_result"
    }
   ],
   "source": [
    "apt_details.head"
   ]
  },
  {
   "cell_type": "code",
   "execution_count": null,
   "metadata": {
    "collapsed": false
   },
   "outputs": [],
   "source": [
    "def readAptData( dongcode, danjicode, year, quarter ) :\n",
    "    url = \"http://rt.molit.go.kr/rtApt.do?cmd=getTradeAptLocal&dongCode=%d&danjiCode=ALL&srhYear=%d&srhPeriod=%d&gubunRadio2=1\" % ( dongcode, year, quarter )\n",
    "    response = urllib.urlopen(url)\n",
    "    data = json.loads(response.read())\n",
    "    apt_meta = pd.DataFrame(data['danjiList'])\n",
    "    apt_data = pd.DataFrame(data['detailList'])\n",
    "    return apt_meta, apt_data\n"
   ]
  },
  {
   "cell_type": "markdown",
   "metadata": {},
   "source": []
  },
  {
   "cell_type": "code",
   "execution_count": 29,
   "metadata": {
    "collapsed": false
   },
   "outputs": [],
   "source": [
    "apt_data=pd.read_sql(\"\"\"\n",
    "select si||\" \"||gu sigu, si, gu, dong, name, kcode, cast( KAPTDA_CNT as int ) KAPTDA_CNT, cast( KAPT_USEDATE as date ) KAPT_USEDATE\n",
    "from apt_addr_tbl X, apt_info_tbl Y\n",
    "where X.kcode=Y.kapt_code;\n",
    "\"\"\",con)"
   ]
  },
  {
   "cell_type": "code",
   "execution_count": 32,
   "metadata": {
    "collapsed": false
   },
   "outputs": [
    {
     "data": {
      "text/html": [
       "<div style=\"max-height:1000px;max-width:1500px;overflow:auto;\">\n",
       "<table border=\"1\" class=\"dataframe\">\n",
       "  <thead>\n",
       "    <tr style=\"text-align: right;\">\n",
       "      <th></th>\n",
       "      <th>sigu</th>\n",
       "      <th>si</th>\n",
       "      <th>gu</th>\n",
       "      <th>dong</th>\n",
       "      <th>name</th>\n",
       "      <th>kcode</th>\n",
       "      <th>KAPTDA_CNT</th>\n",
       "      <th>KAPT_USEDATE</th>\n",
       "    </tr>\n",
       "  </thead>\n",
       "  <tbody>\n",
       "    <tr>\n",
       "      <th>0</th>\n",
       "      <td>   경기도 화성시</td>\n",
       "      <td>   경기도</td>\n",
       "      <td> 화성시</td>\n",
       "      <td> 동탄면</td>\n",
       "      <td>      동탄2 모아미래도</td>\n",
       "      <td> A10028158</td>\n",
       "      <td> 460</td>\n",
       "      <td> 2015</td>\n",
       "    </tr>\n",
       "    <tr>\n",
       "      <th>1</th>\n",
       "      <td>  전라북도 부안군</td>\n",
       "      <td>  전라북도</td>\n",
       "      <td> 부안군</td>\n",
       "      <td> 부안읍</td>\n",
       "      <td> 부안봉덕3지구LH4차아파트</td>\n",
       "      <td> A10028160</td>\n",
       "      <td> 554</td>\n",
       "      <td> 2015</td>\n",
       "    </tr>\n",
       "    <tr>\n",
       "      <th>2</th>\n",
       "      <td> 부산광역시 수영구</td>\n",
       "      <td> 부산광역시</td>\n",
       "      <td> 수영구</td>\n",
       "      <td> 민락동</td>\n",
       "      <td>        경동센텀메르빌</td>\n",
       "      <td> A10028161</td>\n",
       "      <td> 157</td>\n",
       "      <td> 2014</td>\n",
       "    </tr>\n",
       "    <tr>\n",
       "      <th>3</th>\n",
       "      <td>  충청남도 예산군</td>\n",
       "      <td>  충청남도</td>\n",
       "      <td> 예산군</td>\n",
       "      <td> 예산읍</td>\n",
       "      <td>    예산 아뜨리움 아파트</td>\n",
       "      <td> A10028162</td>\n",
       "      <td> 174</td>\n",
       "      <td> 2015</td>\n",
       "    </tr>\n",
       "    <tr>\n",
       "      <th>4</th>\n",
       "      <td>   경기도 화성시</td>\n",
       "      <td>   경기도</td>\n",
       "      <td> 화성시</td>\n",
       "      <td> 반월동</td>\n",
       "      <td>    신동탄 SK뷰 아파트</td>\n",
       "      <td> A10028164</td>\n",
       "      <td> 238</td>\n",
       "      <td> 2015</td>\n",
       "    </tr>\n",
       "  </tbody>\n",
       "</table>\n",
       "</div>"
      ],
      "text/plain": [
       "        sigu     si   gu dong            name      kcode  KAPTDA_CNT  \\\n",
       "0    경기도 화성시    경기도  화성시  동탄면       동탄2 모아미래도  A10028158         460   \n",
       "1   전라북도 부안군   전라북도  부안군  부안읍  부안봉덕3지구LH4차아파트  A10028160         554   \n",
       "2  부산광역시 수영구  부산광역시  수영구  민락동         경동센텀메르빌  A10028161         157   \n",
       "3   충청남도 예산군   충청남도  예산군  예산읍     예산 아뜨리움 아파트  A10028162         174   \n",
       "4    경기도 화성시    경기도  화성시  반월동     신동탄 SK뷰 아파트  A10028164         238   \n",
       "\n",
       "   KAPT_USEDATE  \n",
       "0          2015  \n",
       "1          2015  \n",
       "2          2014  \n",
       "3          2015  \n",
       "4          2015  "
      ]
     },
     "execution_count": 32,
     "metadata": {},
     "output_type": "execute_result"
    }
   ],
   "source": [
    "apt_data.head()"
   ]
  },
  {
   "cell_type": "markdown",
   "metadata": {},
   "source": []
  },
  {
   "cell_type": "markdown",
   "metadata": {},
   "source": []
  },
  {
   "cell_type": "markdown",
   "metadata": {},
   "source": []
  },
  {
   "cell_type": "code",
   "execution_count": 88,
   "metadata": {
    "collapsed": false,
    "scrolled": true
   },
   "outputs": [
    {
     "data": {
      "image/png": "[encoded data removed]",
      "text/plain": [
       "<matplotlib.figure.Figure at 0x10d159908>"
      ]
     },
     "metadata": {},
     "output_type": "display_data"
    }
   ],
   "source": [
    "grouped = apt_data[(apt_data['KAPT_USEDATE']>0)].groupby(['KAPT_USEDATE'])\n",
    "grouped.count()['KAPTDA_CNT'].plot(kind='bar',figsize=(10,5), title='아파트 년도별 건축 단지수')\n",
    "plt.show()"
   ]
  },
  {
   "cell_type": "markdown",
   "metadata": {},
   "source": []
  },
  {
   "cell_type": "code",
   "execution_count": 117,
   "metadata": {
    "collapsed": false
   },
   "outputs": [
    {
     "data": {
      "image/png": "[encoded data removed]",
      "text/plain": [
       "<matplotlib.figure.Figure at 0x10ba60b70>"
      ]
     },
     "metadata": {},
     "output_type": "display_data"
    }
   ],
   "source": [
    "grouped = apt_data[((apt_data['KAPT_USEDATE']>=1993) & (apt_data['KAPT_USEDATE']<=1998) & (apt_data['si']=='경기도') )].groupby(['sigu'])\n",
    "plan1=grouped.sum().sort(['KAPTDA_CNT'],ascending=False)['KAPTDA_CNT'].head(20)\n",
    "\n",
    "plan1.plot(kind='bar',figsize=(10,5), title='아파트 년도별 건축 단지수')\n",
    "plt.show()"
   ]
  },
  {
   "cell_type": "markdown",
   "metadata": {},
   "source": []
  },
  {
   "cell_type": "code",
   "execution_count": 116,
   "metadata": {
    "collapsed": false
   },
   "outputs": [
    {
     "data": {
      "image/png": "[encoded data removed]",
      "text/plain": [
       "<matplotlib.figure.Figure at 0x10dd40b38>"
      ]
     },
     "metadata": {},
     "output_type": "display_data"
    }
   ],
   "source": [
    "grouped = apt_data[((apt_data['KAPT_USEDATE']>=2003) & (apt_data['KAPT_USEDATE']<=2007) & (apt_data['si']=='경기도') )].groupby(['sigu'])\n",
    "plan1=grouped.sum().sort(['KAPTDA_CNT'],ascending=False)['KAPTDA_CNT'].head(20)\n",
    "\n",
    "plan1.plot(kind='bar',figsize=(10,5), title='아파트 년도별 건축 단지수')\n",
    "plt.show()"
   ]
  },
  {
   "cell_type": "markdown",
   "metadata": {},
   "source": []
  },
  {
   "cell_type": "code",
   "execution_count": null,
   "metadata": {
    "collapsed": true
   },
   "outputs": [],
   "source": []
  },
  {
   "cell_type": "markdown",
   "metadata": {},
   "source": [
    "\n",
    "All Right reserved. Source,Data, Coding Method to orginal locaiton of link mentioned above.\n",
    "\n",
    "상기 모든 자료와 코드 작성법은 본 문서의 가장 위에 적힌 작성자 및 기관에게 권한이 있습니다."
   ]
  },
  {
   "cell_type": "code",
   "execution_count": null,
   "metadata": {
    "collapsed": true
   },
   "outputs": [],
   "source": []
  }
 ],
 "metadata": {
  "kernelspec": {
   "display_name": "Python 3",
   "language": "python",
   "name": "python3"
  },
  "language_info": {
   "codemirror_mode": {
    "name": "ipython",
    "version": 3
   },
   "file_extension": ".py",
   "mimetype": "text/x-python",
   "name": "python",
   "nbconvert_exporter": "python",
   "pygments_lexer": "ipython3",
   "version": "3.5.1"
  }
 },
 "nbformat": 4,
 "nbformat_minor": 0
}
